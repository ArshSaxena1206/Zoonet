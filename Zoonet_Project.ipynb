{
  "cells": [
    {
      "source": [
        "import os\n",
        "import sys\n",
        "from tempfile import NamedTemporaryFile\n",
        "from urllib.request import urlopen\n",
        "from urllib.parse import unquote, urlparse\n",
        "from urllib.error import HTTPError\n",
        "from zipfile import ZipFile\n",
        "import tarfile\n",
        "import shutil\n",
        "\n",
        "CHUNK_SIZE = 40960\n",
        "DATA_SOURCE_MAPPING = 'animal-detection-small-dataset:https%3A%2F%2Fstorage.googleapis.com%2Fkaggle-data-sets%2F37898%2F57718%2Fbundle%2Farchive.zip%3FX-Goog-Algorithm%3DGOOG4-RSA-SHA256%26X-Goog-Credential%3Dgcp-kaggle-com%2540kaggle-161607.iam.gserviceaccount.com%252F20240303%252Fauto%252Fstorage%252Fgoog4_request%26X-Goog-Date%3D20240303T184111Z%26X-Goog-Expires%3D259200%26X-Goog-SignedHeaders%3Dhost%26X-Goog-Signature%3D9df21684b0ced7117d7ddf8607c1c04d326d5eb483b57475c97e04ca2bf9e84e1af0598d878605e189633c424b53aeb5fd674071763dc1de52bdee02927117d75c1903244ce1e63783b35618a4ca8e9dd6687bdcadfefeb11ffb886f792f095f25d25d4a5ea2143789353f410e7012aebad2a7897d72573e27d791713414c83f144e047a35a660e79559708c63f72af0946f66526cf2fd11a5451dffc784dc2dda0c14e4303b540f9102dd832ac58487608e5af442a381633492771419f12cc70ddb6059c3fcd32bd9021036e6e30890b65c32fe81df3867ded538078b6e3bcf7340ccce3f4681cd0acb76019edc4863635b0d44011af4ab6df50e9f4957af0d,animal-classification:https%3A%2F%2Fstorage.googleapis.com%2Fkaggle-data-sets%2F616920%2F1102439%2Fbundle%2Farchive.zip%3FX-Goog-Algorithm%3DGOOG4-RSA-SHA256%26X-Goog-Credential%3Dgcp-kaggle-com%2540kaggle-161607.iam.gserviceaccount.com%252F20240303%252Fauto%252Fstorage%252Fgoog4_request%26X-Goog-Date%3D20240303T184111Z%26X-Goog-Expires%3D259200%26X-Goog-SignedHeaders%3Dhost%26X-Goog-Signature%3D07feecc44831af1910982700bb7e553b3cdec97bb57c639b53595527971609d8b9ab2d192fabbe5b5c163417161435e90a4156e92f80be0358dca49a2ca1f4c5c83bf9c59b9849a6831df681690f0e673307fdc0e84489cd1877dcaf4ee6c192d337929c97674dbf41839affeaed40a4c84c8006055e2841cfa6362deb22541e97ec1f6526c04c5cb406e5eb75d76ccb77981666871543ea98bbd6cc545e75ed18f127bd7d8db140fa5992add1456b9725f60a0a293d2674a9c260fb687b60f763c2538a4c3f19f942f55094bb123e802b18edd1d185ac899cc63a4e2935c227fff3f99adce0968b1805b459f89faacc921d9679c29744c5eb17ca33d6c0a3db,african-wildlife:https%3A%2F%2Fstorage.googleapis.com%2Fkaggle-data-sets%2F674157%2F1185810%2Fbundle%2Farchive.zip%3FX-Goog-Algorithm%3DGOOG4-RSA-SHA256%26X-Goog-Credential%3Dgcp-kaggle-com%2540kaggle-161607.iam.gserviceaccount.com%252F20240303%252Fauto%252Fstorage%252Fgoog4_request%26X-Goog-Date%3D20240303T184111Z%26X-Goog-Expires%3D259200%26X-Goog-SignedHeaders%3Dhost%26X-Goog-Signature%3D8fcd384383afc5466df54f6dc3c07a8f10b800ab9f8e730a95b31f3686cc4b29d02461bb27128e03a979c7a28d7f81283a84598fee4708c9c37179ba469369dacf80233658d7eb7e45a40e62bd5ccd819703de3c08da31c787cf83abae8543b0456ccde03733180fac8ef8441ba40434ea22e0fc4c80fab47d187636ee44d1bce9dfa29373ab96650e0de1e629b9774fc94b72f97f67262797b331696cf96d9991828cc3a14f9f2385cadd9fad1bf8ad23a2ac3b51e9cbe4043ee714c64e61529ff77141841bfa9a7fe216dbea3cd2b0c7de6e91558c9c244eb4cfc0114d4830038e1c6baabb4cea20b56e488d9f970dcfcebaf48d0b3288c8ebc1de19f1293a,cheetahtigerwolf:https%3A%2F%2Fstorage.googleapis.com%2Fkaggle-data-sets%2F731756%2F1270998%2Fbundle%2Farchive.zip%3FX-Goog-Algorithm%3DGOOG4-RSA-SHA256%26X-Goog-Credential%3Dgcp-kaggle-com%2540kaggle-161607.iam.gserviceaccount.com%252F20240303%252Fauto%252Fstorage%252Fgoog4_request%26X-Goog-Date%3D20240303T184111Z%26X-Goog-Expires%3D259200%26X-Goog-SignedHeaders%3Dhost%26X-Goog-Signature%3D3e30db30c22ee7461e80f285ada6144006a46a7b45339de063ff32e50a862d7a517a03ec619f829377cc7372402921607b40f35002c9f9d1c46ae7d601cf9a6f73bef4bddec05a48b1235f2c33f3bcdea44b7e62faa9914e58d1f870295edf905ce06de78af2116d3ae07d2f819140e36c621dd82abbf8c734f515f9cfa13a30af1af5930023adfe2ea62c780d65d1c673a7b78232602d180968425fbc17cd1e23ddb1d654b57fcfe889e890e1c6f1a0e6dc65f8299336d6c87a345f115bbd9c344b4e8cd42cf9c412a31206c8f376ce1033da5213eca1f022c88ce5d401c2e015c76f6a349e645407b117fbd861899a1f7b21137f31d4347928a4fd4386ef95'\n",
        "\n",
        "KAGGLE_INPUT_PATH='/kaggle/input'\n",
        "KAGGLE_WORKING_PATH='/kaggle/working'\n",
        "KAGGLE_SYMLINK='kaggle'\n",
        "\n",
        "!umount /kaggle/input/ 2> /dev/null\n",
        "shutil.rmtree('/kaggle/input', ignore_errors=True)\n",
        "os.makedirs(KAGGLE_INPUT_PATH, 0o777, exist_ok=True)\n",
        "os.makedirs(KAGGLE_WORKING_PATH, 0o777, exist_ok=True)\n",
        "\n",
        "try:\n",
        "  os.symlink(KAGGLE_INPUT_PATH, os.path.join(\"..\", 'input'), target_is_directory=True)\n",
        "except FileExistsError:\n",
        "  pass\n",
        "try:\n",
        "  os.symlink(KAGGLE_WORKING_PATH, os.path.join(\"..\", 'working'), target_is_directory=True)\n",
        "except FileExistsError:\n",
        "  pass\n",
        "\n",
        "for data_source_mapping in DATA_SOURCE_MAPPING.split(','):\n",
        "    directory, download_url_encoded = data_source_mapping.split(':')\n",
        "    download_url = unquote(download_url_encoded)\n",
        "    filename = urlparse(download_url).path\n",
        "    destination_path = os.path.join(KAGGLE_INPUT_PATH, directory)\n",
        "    try:\n",
        "        with urlopen(download_url) as fileres, NamedTemporaryFile() as tfile:\n",
        "            total_length = fileres.headers['content-length']\n",
        "            print(f'Downloading {directory}, {total_length} bytes compressed')\n",
        "            dl = 0\n",
        "            data = fileres.read(CHUNK_SIZE)\n",
        "            while len(data) > 0:\n",
        "                dl += len(data)\n",
        "                tfile.write(data)\n",
        "                done = int(50 * dl / int(total_length))\n",
        "                sys.stdout.write(f\"\\r[{'=' * done}{' ' * (50-done)}] {dl} bytes downloaded\")\n",
        "                sys.stdout.flush()\n",
        "                data = fileres.read(CHUNK_SIZE)\n",
        "            if filename.endswith('.zip'):\n",
        "              with ZipFile(tfile) as zfile:\n",
        "                zfile.extractall(destination_path)\n",
        "            else:\n",
        "              with tarfile.open(tfile.name) as tarfile:\n",
        "                tarfile.extractall(destination_path)\n",
        "            print(f'\\nDownloaded and uncompressed: {directory}')\n",
        "    except HTTPError as e:\n",
        "        print(f'Failed to load (likely expired) {download_url} to path {destination_path}')\n",
        "        continue\n",
        "    except OSError as e:\n",
        "        print(f'Failed to load {download_url} to path {destination_path}')\n",
        "        continue\n",
        "\n",
        "print('Data source import complete.')\n"
      ],
      "metadata": {
        "id": "IPpP5llrnr4w",
        "outputId": "8d3cf3e2-405f-4cf5-8b0c-3169ee0ceeec",
        "colab": {
          "base_uri": "https://localhost:8080/"
        }
      },
      "cell_type": "code",
      "outputs": [
        {
          "output_type": "stream",
          "name": "stdout",
          "text": [
            "Downloading animal-detection-small-dataset, 6874991755 bytes compressed\n",
            "[==================================================] 6874991755 bytes downloaded\n",
            "Downloaded and uncompressed: animal-detection-small-dataset\n",
            "Downloading animal-classification, 434445864 bytes compressed\n",
            "[==================================================] 434445864 bytes downloaded\n",
            "Downloaded and uncompressed: animal-classification\n",
            "Downloading african-wildlife, 469442673 bytes compressed\n",
            "[==================================================] 469442673 bytes downloaded\n",
            "Downloaded and uncompressed: african-wildlife\n",
            "Downloading cheetahtigerwolf, 2692178008 bytes compressed\n",
            "[==================================================] 2692178008 bytes downloaded\n",
            "Downloaded and uncompressed: cheetahtigerwolf\n",
            "Data source import complete.\n"
          ]
        }
      ],
      "execution_count": 3
    },
    {
      "metadata": {
        "id": "2593qJFunr40"
      },
      "cell_type": "markdown",
      "source": [
        "Importing Libraries"
      ]
    },
    {
      "metadata": {
        "_uuid": "8f2839f25d086af736a60e9eeb907d3b93b6e0e5",
        "_cell_guid": "b1076dfc-b9ad-4769-8c92-a6c4dae69d19",
        "trusted": true,
        "id": "ItHLMFgznr42",
        "outputId": "2c8753eb-004a-4f64-e442-e9062b45dc4c",
        "colab": {
          "base_uri": "https://localhost:8080/"
        }
      },
      "cell_type": "code",
      "source": [
        "import keras\n",
        "import os\n",
        "import shutil\n",
        "import numpy as np\n",
        "import math\n",
        "import random\n",
        "import matplotlib.pyplot as plt\n",
        "import seaborn as sns\n",
        "sns.set()\n",
        "from platform import python_version\n",
        "\n",
        "print('Python version:', python_version())\n",
        "print('Numpy version:', np.__version__)\n",
        "print('Seaborn version:', sns.__version__)\n",
        "from distutils.dir_util import copy_tree\n",
        "import tensorflow as tf\n",
        "print('tensorflow version: ',tf.__version__)\n",
        "print('keras version:', keras.__version__)"
      ],
      "execution_count": 4,
      "outputs": [
        {
          "output_type": "stream",
          "name": "stdout",
          "text": [
            "Python version: 3.10.12\n",
            "Numpy version: 1.25.2\n",
            "Seaborn version: 0.13.1\n",
            "tensorflow version:  2.15.0\n",
            "keras version: 2.15.0\n"
          ]
        }
      ]
    },
    {
      "metadata": {
        "_uuid": "d629ff2d2480ee46fbb7e2d37f6b5fab8052498a",
        "_cell_guid": "79c7e3d0-c299-4dcb-8224-4455121ee9b0",
        "trusted": true,
        "id": "T7nSPfW6nr42",
        "outputId": "146ce8e0-ee7b-4515-d0bb-fabab24269c3",
        "colab": {
          "base_uri": "https://localhost:8080/"
        }
      },
      "cell_type": "code",
      "source": [
        "!pip install keras_preprocessing\n",
        "from keras.layers import Convolution2D\n",
        "from keras.layers import MaxPooling2D\n",
        "from keras.layers import Flatten\n",
        "from keras.layers import Dense\n",
        "from keras.models import Sequential\n",
        "from keras.layers import Dropout\n",
        "from keras_preprocessing.image import ImageDataGenerator\n"
      ],
      "execution_count": 5,
      "outputs": [
        {
          "output_type": "stream",
          "name": "stdout",
          "text": [
            "Collecting keras_preprocessing\n",
            "  Downloading Keras_Preprocessing-1.1.2-py2.py3-none-any.whl (42 kB)\n",
            "\u001b[?25l     \u001b[90m━━━━━━━━━━━━━━━━━━━━━━━━━━━━━━━━━━━━━━━━\u001b[0m \u001b[32m0.0/42.6 kB\u001b[0m \u001b[31m?\u001b[0m eta \u001b[36m-:--:--\u001b[0m\r\u001b[2K     \u001b[90m━━━━━━━━━━━━━━━━━━━━━━━━━━━━━━━━━━━━━━━━\u001b[0m \u001b[32m42.6/42.6 kB\u001b[0m \u001b[31m1.7 MB/s\u001b[0m eta \u001b[36m0:00:00\u001b[0m\n",
            "\u001b[?25hRequirement already satisfied: numpy>=1.9.1 in /usr/local/lib/python3.10/dist-packages (from keras_preprocessing) (1.25.2)\n",
            "Requirement already satisfied: six>=1.9.0 in /usr/local/lib/python3.10/dist-packages (from keras_preprocessing) (1.16.0)\n",
            "Installing collected packages: keras_preprocessing\n",
            "Successfully installed keras_preprocessing-1.1.2\n"
          ]
        }
      ]
    },
    {
      "metadata": {
        "id": "ul9hjr5Pnr43"
      },
      "cell_type": "markdown",
      "source": [
        "  Dataset Creation"
      ]
    },
    {
      "metadata": {
        "trusted": true,
        "id": "sB1Dm8Jwnr43"
      },
      "cell_type": "code",
      "source": [
        "#created data set using console\n",
        "source='../input/african-wildlife/'\n",
        "target='./train_data/'\n",
        "shutil.copytree(source, target)\n",
        "os.mkdir('test_data')"
      ],
      "execution_count": 6,
      "outputs": []
    },
    {
      "metadata": {
        "trusted": true,
        "id": "alhxvHTEnr43"
      },
      "cell_type": "code",
      "source": [
        "# remove unwanted data and create same classed for test_data\n",
        "\n",
        "path=\"./train_data/\"\n",
        "for file in os.listdir(path):\n",
        "    for image in os.listdir(path+file+'/'):\n",
        "        if '.jpg' not in image:\n",
        "            os.remove(path+file+'/'+image)\n",
        "    os.mkdir('./test_data/'+file)\n"
      ],
      "execution_count": 7,
      "outputs": []
    },
    {
      "metadata": {
        "trusted": true,
        "id": "dxCjSj3-nr44",
        "outputId": "11735b9b-b3dc-4388-a78c-807241d69866",
        "colab": {
          "base_uri": "https://localhost:8080/"
        }
      },
      "cell_type": "code",
      "source": [
        "# create test_data by taking 25% images from data\n",
        "\n",
        "total_train_images,total_test_images,total_train_classes,total_test_classes=0,0,0,0\n",
        "path=\"./train_data/\"\n",
        "for file in os.listdir(path):\n",
        "    total_train_classes+=1\n",
        "    total_images=len(os.listdir(path+file+\"/\"))\n",
        "    test_image_count=(25/100)*total_images #25% for test and 75% for train\n",
        "    for i in range(math.ceil(test_image_count)):\n",
        "        img=random.choice(os.listdir(path+file+'/'))\n",
        "        shutil.move(path+file+'/'+img,'./test_data/'+file+'/')\n",
        "        #print(img)\n",
        "    print(file,total_images,math.ceil(test_image_count))\n",
        "    total_train_images+=(total_images-math.ceil(test_image_count))\n",
        "    #print(file,math.ceil(test_image_count))\n",
        "print(\"total train images are : \",total_train_images,\" and total train classes are : \",total_train_classes)"
      ],
      "execution_count": 8,
      "outputs": [
        {
          "output_type": "stream",
          "name": "stdout",
          "text": [
            "elephant 375 94\n",
            "zebra 376 94\n",
            "buffalo 375 94\n",
            "rhino 375 94\n",
            "total train images are :  1125  and total train classes are :  4\n"
          ]
        }
      ]
    },
    {
      "metadata": {
        "id": "L2e9P3kknr44"
      },
      "cell_type": "markdown",
      "source": [
        "Model Creation"
      ]
    },
    {
      "metadata": {
        "trusted": true,
        "id": "CmEuPswwnr44"
      },
      "cell_type": "code",
      "source": [
        "model = Sequential()"
      ],
      "execution_count": 9,
      "outputs": []
    },
    {
      "metadata": {
        "trusted": true,
        "id": "gx3q_jZrnr45"
      },
      "cell_type": "code",
      "source": [
        "#inputlayer : apply filters\n",
        "model.add(Convolution2D(filters=32,\n",
        "                        kernel_size=(3,3),\n",
        "                        strides=(1,1),\n",
        "                        padding='same',\n",
        "                        activation='relu',\n",
        "                   input_shape=(32, 32, 1)))"
      ],
      "execution_count": 10,
      "outputs": []
    },
    {
      "metadata": {
        "trusted": true,
        "id": "ojnGU3finr45"
      },
      "cell_type": "code",
      "source": [
        "# pooling layer where we are doing maxpooling\n",
        "model.add(MaxPooling2D(pool_size=(2, 2)))"
      ],
      "execution_count": 11,
      "outputs": []
    },
    {
      "metadata": {
        "trusted": true,
        "id": "85oCEUJjnr45"
      },
      "cell_type": "code",
      "source": [
        "#adding one more convolution layer for better model\n",
        "model.add(Convolution2D(filters=32,\n",
        "                        kernel_size=(3,3),\n",
        "                        strides=(1,1),\n",
        "                        padding='same',\n",
        "                        activation='relu'\n",
        "                      ))"
      ],
      "execution_count": 12,
      "outputs": []
    },
    {
      "metadata": {
        "trusted": true,
        "id": "GeEDMgF_nr45"
      },
      "cell_type": "code",
      "source": [
        "#adding one more Pooling layer for better model\n",
        "model.add(MaxPooling2D(pool_size=(2, 2)))"
      ],
      "execution_count": 13,
      "outputs": []
    },
    {
      "metadata": {
        "trusted": true,
        "id": "DPqf1Sb2nr45"
      },
      "cell_type": "code",
      "source": [
        "#dropout regularlization\n",
        "model.add(Dropout(0.5))"
      ],
      "execution_count": 14,
      "outputs": []
    },
    {
      "metadata": {
        "trusted": true,
        "id": "9m2MZkiQnr46"
      },
      "cell_type": "code",
      "source": [
        "#layer in which we are converting 2d/3d image to 1d image i.e flattening\n",
        "model.add(Flatten())"
      ],
      "execution_count": 15,
      "outputs": []
    },
    {
      "metadata": {
        "trusted": true,
        "id": "p6SjiDr_nr46"
      },
      "cell_type": "code",
      "source": [
        "# layer: appling relu to give positive output from here our hidden layerrs starts\n",
        "model.add(Dense(units=20, activation='relu'))"
      ],
      "execution_count": 16,
      "outputs": []
    },
    {
      "metadata": {
        "trusted": true,
        "id": "m5CSBmQqnr46"
      },
      "cell_type": "code",
      "source": [
        "#dropout regularlization\n",
        "model.add(Dropout(0.5))"
      ],
      "execution_count": 17,
      "outputs": []
    },
    {
      "metadata": {
        "trusted": true,
        "id": "qtCRJVYanr46"
      },
      "cell_type": "code",
      "source": [
        "# output layer : Since we have to do multi-class classification so we'll apply softmax activation function\n",
        "# we have 4 classes of animals so output layer would have that many neurons.\n",
        "model.add(Dense(units=4, activation='softmax'))"
      ],
      "execution_count": 18,
      "outputs": []
    },
    {
      "metadata": {
        "trusted": true,
        "id": "zbFzXoERnr46"
      },
      "cell_type": "code",
      "source": [
        "model.compile(optimizer='adam', loss='categorical_crossentropy', metrics=['accuracy'])"
      ],
      "execution_count": 19,
      "outputs": []
    },
    {
      "metadata": {
        "trusted": true,
        "id": "Qv99zJzYnr46",
        "outputId": "c2403aa9-45c2-4fd9-8024-6a85bb784198",
        "colab": {
          "base_uri": "https://localhost:8080/"
        }
      },
      "cell_type": "code",
      "source": [
        "model.summary()"
      ],
      "execution_count": 20,
      "outputs": [
        {
          "output_type": "stream",
          "name": "stdout",
          "text": [
            "Model: \"sequential\"\n",
            "_________________________________________________________________\n",
            " Layer (type)                Output Shape              Param #   \n",
            "=================================================================\n",
            " conv2d (Conv2D)             (None, 32, 32, 32)        320       \n",
            "                                                                 \n",
            " max_pooling2d (MaxPooling2  (None, 16, 16, 32)        0         \n",
            " D)                                                              \n",
            "                                                                 \n",
            " conv2d_1 (Conv2D)           (None, 16, 16, 32)        9248      \n",
            "                                                                 \n",
            " max_pooling2d_1 (MaxPoolin  (None, 8, 8, 32)          0         \n",
            " g2D)                                                            \n",
            "                                                                 \n",
            " dropout (Dropout)           (None, 8, 8, 32)          0         \n",
            "                                                                 \n",
            " flatten (Flatten)           (None, 2048)              0         \n",
            "                                                                 \n",
            " dense (Dense)               (None, 20)                40980     \n",
            "                                                                 \n",
            " dropout_1 (Dropout)         (None, 20)                0         \n",
            "                                                                 \n",
            " dense_1 (Dense)             (None, 4)                 84        \n",
            "                                                                 \n",
            "=================================================================\n",
            "Total params: 50632 (197.78 KB)\n",
            "Trainable params: 50632 (197.78 KB)\n",
            "Non-trainable params: 0 (0.00 Byte)\n",
            "_________________________________________________________________\n"
          ]
        }
      ]
    },
    {
      "metadata": {
        "id": "ItJwhqqpnr46"
      },
      "cell_type": "markdown",
      "source": [
        "Image Augmentation"
      ]
    },
    {
      "metadata": {
        "trusted": true,
        "id": "kqLGDkjlnr46",
        "outputId": "1669e2cf-cc1b-445f-a9c0-670177a973a7",
        "colab": {
          "base_uri": "https://localhost:8080/"
        }
      },
      "cell_type": "code",
      "source": [
        "#url : https://keras.io/api/preprocessing/image/\n",
        "train_datagen = ImageDataGenerator(\n",
        "        rescale=1./255,\n",
        "        shear_range=0.2,\n",
        "        zoom_range=0.2,\n",
        "        horizontal_flip=True)\n",
        "test_datagen = ImageDataGenerator(rescale=1./255)\n",
        "training_set = train_datagen.flow_from_directory(\n",
        "        './train_data/',\n",
        "        target_size=(32,32),\n",
        "        color_mode=\"grayscale\",\n",
        "        batch_size=64,\n",
        "        class_mode='categorical')\n",
        "test_set = test_datagen.flow_from_directory(\n",
        "        './test_data/',\n",
        "        target_size=(32,32),\n",
        "        color_mode=\"grayscale\",\n",
        "        batch_size=64,\n",
        "        class_mode='categorical')"
      ],
      "execution_count": 21,
      "outputs": [
        {
          "output_type": "stream",
          "name": "stdout",
          "text": [
            "Found 1125 images belonging to 4 classes.\n",
            "Found 376 images belonging to 4 classes.\n"
          ]
        }
      ]
    },
    {
      "metadata": {
        "trusted": true,
        "id": "DMT1wcJdnr47",
        "colab": {
          "base_uri": "https://localhost:8080/"
        },
        "outputId": "5e7cb20d-3046-4d0d-f98e-ca67b3ae1081"
      },
      "cell_type": "code",
      "source": [
        "training_set.class_indices # to see classes of our dataset"
      ],
      "execution_count": 22,
      "outputs": [
        {
          "output_type": "execute_result",
          "data": {
            "text/plain": [
              "{'buffalo': 0, 'elephant': 1, 'rhino': 2, 'zebra': 3}"
            ]
          },
          "metadata": {},
          "execution_count": 22
        }
      ]
    },
    {
      "metadata": {
        "trusted": true,
        "id": "CFTJnA0Dnr47",
        "outputId": "e2a2afcb-56a6-4b38-eb7f-05156aa35efd",
        "colab": {
          "base_uri": "https://localhost:8080/"
        }
      },
      "cell_type": "code",
      "source": [
        "history = model.fit(\n",
        "        training_set,\n",
        "        steps_per_epoch=(1125/64),\n",
        "        epochs=100,\n",
        "        validation_data=test_set,\n",
        "        validation_steps=(376/64))"
      ],
      "execution_count": 23,
      "outputs": [
        {
          "output_type": "stream",
          "name": "stdout",
          "text": [
            "Epoch 1/100\n",
            "17/17 [==============================] - 24s 1s/step - loss: 1.3946 - accuracy: 0.2622 - val_loss: 1.3863 - val_accuracy: 0.2553\n",
            "Epoch 2/100\n",
            "17/17 [==============================] - 19s 1s/step - loss: 1.3866 - accuracy: 0.2516 - val_loss: 1.3858 - val_accuracy: 0.2500\n",
            "Epoch 3/100\n",
            "17/17 [==============================] - 19s 1s/step - loss: 1.3861 - accuracy: 0.2578 - val_loss: 1.3813 - val_accuracy: 0.3564\n",
            "Epoch 4/100\n",
            "17/17 [==============================] - 19s 1s/step - loss: 1.3829 - accuracy: 0.2693 - val_loss: 1.3725 - val_accuracy: 0.3511\n",
            "Epoch 5/100\n",
            "17/17 [==============================] - 19s 1s/step - loss: 1.3825 - accuracy: 0.2720 - val_loss: 1.3726 - val_accuracy: 0.3697\n",
            "Epoch 6/100\n",
            "17/17 [==============================] - 19s 1s/step - loss: 1.3685 - accuracy: 0.2916 - val_loss: 1.3418 - val_accuracy: 0.3723\n",
            "Epoch 7/100\n",
            "17/17 [==============================] - 20s 1s/step - loss: 1.3567 - accuracy: 0.3031 - val_loss: 1.3038 - val_accuracy: 0.3830\n",
            "Epoch 8/100\n",
            "17/17 [==============================] - 19s 1s/step - loss: 1.3387 - accuracy: 0.3173 - val_loss: 1.2714 - val_accuracy: 0.3936\n",
            "Epoch 9/100\n",
            "17/17 [==============================] - 18s 1s/step - loss: 1.3275 - accuracy: 0.3102 - val_loss: 1.2420 - val_accuracy: 0.4388\n",
            "Epoch 10/100\n",
            "17/17 [==============================] - 19s 1s/step - loss: 1.2958 - accuracy: 0.3662 - val_loss: 1.2013 - val_accuracy: 0.4415\n",
            "Epoch 11/100\n",
            "17/17 [==============================] - 20s 1s/step - loss: 1.2933 - accuracy: 0.3324 - val_loss: 1.1752 - val_accuracy: 0.4707\n",
            "Epoch 12/100\n",
            "17/17 [==============================] - 19s 1s/step - loss: 1.2571 - accuracy: 0.3689 - val_loss: 1.1301 - val_accuracy: 0.4654\n",
            "Epoch 13/100\n",
            "17/17 [==============================] - 19s 1s/step - loss: 1.2543 - accuracy: 0.3920 - val_loss: 1.1214 - val_accuracy: 0.4973\n",
            "Epoch 14/100\n",
            "17/17 [==============================] - 20s 1s/step - loss: 1.2107 - accuracy: 0.4320 - val_loss: 1.0763 - val_accuracy: 0.5053\n",
            "Epoch 15/100\n",
            "17/17 [==============================] - 19s 1s/step - loss: 1.2294 - accuracy: 0.4151 - val_loss: 1.0789 - val_accuracy: 0.5612\n",
            "Epoch 16/100\n",
            "17/17 [==============================] - 18s 1s/step - loss: 1.2132 - accuracy: 0.4098 - val_loss: 1.1113 - val_accuracy: 0.4920\n",
            "Epoch 17/100\n",
            "17/17 [==============================] - 20s 1s/step - loss: 1.1834 - accuracy: 0.4480 - val_loss: 1.0616 - val_accuracy: 0.5053\n",
            "Epoch 18/100\n",
            "17/17 [==============================] - 19s 1s/step - loss: 1.1834 - accuracy: 0.4373 - val_loss: 1.0510 - val_accuracy: 0.5239\n",
            "Epoch 19/100\n",
            "17/17 [==============================] - 20s 1s/step - loss: 1.1839 - accuracy: 0.4169 - val_loss: 1.1947 - val_accuracy: 0.4707\n",
            "Epoch 20/100\n",
            "17/17 [==============================] - 19s 1s/step - loss: 1.2008 - accuracy: 0.4364 - val_loss: 1.0751 - val_accuracy: 0.5559\n",
            "Epoch 21/100\n",
            "17/17 [==============================] - 19s 1s/step - loss: 1.1581 - accuracy: 0.4622 - val_loss: 1.0761 - val_accuracy: 0.5452\n",
            "Epoch 22/100\n",
            "17/17 [==============================] - 20s 1s/step - loss: 1.1409 - accuracy: 0.4622 - val_loss: 1.0224 - val_accuracy: 0.5505\n",
            "Epoch 23/100\n",
            "17/17 [==============================] - 18s 1s/step - loss: 1.1461 - accuracy: 0.4782 - val_loss: 0.9908 - val_accuracy: 0.5771\n",
            "Epoch 24/100\n",
            "17/17 [==============================] - 18s 1s/step - loss: 1.1079 - accuracy: 0.5102 - val_loss: 0.9992 - val_accuracy: 0.5559\n",
            "Epoch 25/100\n",
            "17/17 [==============================] - 19s 1s/step - loss: 1.1069 - accuracy: 0.5058 - val_loss: 1.0037 - val_accuracy: 0.5691\n",
            "Epoch 26/100\n",
            "17/17 [==============================] - 19s 1s/step - loss: 1.0967 - accuracy: 0.5218 - val_loss: 1.0587 - val_accuracy: 0.5612\n",
            "Epoch 27/100\n",
            "17/17 [==============================] - 19s 1s/step - loss: 1.0500 - accuracy: 0.5316 - val_loss: 1.0425 - val_accuracy: 0.5612\n",
            "Epoch 28/100\n",
            "17/17 [==============================] - 19s 1s/step - loss: 1.0336 - accuracy: 0.5618 - val_loss: 0.9612 - val_accuracy: 0.5878\n",
            "Epoch 29/100\n",
            "17/17 [==============================] - 22s 1s/step - loss: 1.0221 - accuracy: 0.5644 - val_loss: 1.0977 - val_accuracy: 0.5346\n",
            "Epoch 30/100\n",
            "17/17 [==============================] - 20s 1s/step - loss: 1.0184 - accuracy: 0.5556 - val_loss: 1.0104 - val_accuracy: 0.5824\n",
            "Epoch 31/100\n",
            "17/17 [==============================] - 20s 1s/step - loss: 0.9950 - accuracy: 0.5627 - val_loss: 1.0139 - val_accuracy: 0.5638\n",
            "Epoch 32/100\n",
            "17/17 [==============================] - 19s 1s/step - loss: 0.9902 - accuracy: 0.5680 - val_loss: 1.2484 - val_accuracy: 0.4814\n",
            "Epoch 33/100\n",
            "17/17 [==============================] - 20s 1s/step - loss: 0.9858 - accuracy: 0.5556 - val_loss: 1.0589 - val_accuracy: 0.5638\n",
            "Epoch 34/100\n",
            "17/17 [==============================] - 18s 1s/step - loss: 0.9860 - accuracy: 0.5911 - val_loss: 1.0041 - val_accuracy: 0.5691\n",
            "Epoch 35/100\n",
            "17/17 [==============================] - 19s 1s/step - loss: 0.9770 - accuracy: 0.5618 - val_loss: 0.9774 - val_accuracy: 0.5878\n",
            "Epoch 36/100\n",
            "17/17 [==============================] - 19s 1s/step - loss: 0.9696 - accuracy: 0.5680 - val_loss: 1.0496 - val_accuracy: 0.5745\n",
            "Epoch 37/100\n",
            "17/17 [==============================] - 20s 1s/step - loss: 0.9897 - accuracy: 0.5831 - val_loss: 0.9190 - val_accuracy: 0.6117\n",
            "Epoch 38/100\n",
            "17/17 [==============================] - 19s 1s/step - loss: 0.9556 - accuracy: 0.5831 - val_loss: 0.9444 - val_accuracy: 0.6064\n",
            "Epoch 39/100\n",
            "17/17 [==============================] - 20s 1s/step - loss: 0.9547 - accuracy: 0.5876 - val_loss: 1.0203 - val_accuracy: 0.5931\n",
            "Epoch 40/100\n",
            "17/17 [==============================] - 19s 1s/step - loss: 0.9644 - accuracy: 0.5627 - val_loss: 1.0201 - val_accuracy: 0.5824\n",
            "Epoch 41/100\n",
            "17/17 [==============================] - 20s 1s/step - loss: 0.9208 - accuracy: 0.5956 - val_loss: 1.0075 - val_accuracy: 0.5984\n",
            "Epoch 42/100\n",
            "17/17 [==============================] - 19s 1s/step - loss: 0.9260 - accuracy: 0.6018 - val_loss: 0.9809 - val_accuracy: 0.5931\n",
            "Epoch 43/100\n",
            "17/17 [==============================] - 19s 1s/step - loss: 0.9370 - accuracy: 0.5796 - val_loss: 0.9507 - val_accuracy: 0.6011\n",
            "Epoch 44/100\n",
            "17/17 [==============================] - 19s 1s/step - loss: 0.9401 - accuracy: 0.5884 - val_loss: 0.9984 - val_accuracy: 0.5957\n",
            "Epoch 45/100\n",
            "17/17 [==============================] - 20s 1s/step - loss: 0.9428 - accuracy: 0.5902 - val_loss: 0.9503 - val_accuracy: 0.6170\n",
            "Epoch 46/100\n",
            "17/17 [==============================] - 18s 1s/step - loss: 0.9579 - accuracy: 0.5876 - val_loss: 0.8122 - val_accuracy: 0.6410\n",
            "Epoch 47/100\n",
            "17/17 [==============================] - 19s 1s/step - loss: 0.9274 - accuracy: 0.5867 - val_loss: 0.9277 - val_accuracy: 0.6117\n",
            "Epoch 48/100\n",
            "17/17 [==============================] - 19s 1s/step - loss: 0.9395 - accuracy: 0.6009 - val_loss: 0.8878 - val_accuracy: 0.6303\n",
            "Epoch 49/100\n",
            "17/17 [==============================] - 19s 1s/step - loss: 0.9151 - accuracy: 0.5973 - val_loss: 0.8718 - val_accuracy: 0.6303\n",
            "Epoch 50/100\n",
            "17/17 [==============================] - 19s 1s/step - loss: 0.9351 - accuracy: 0.6018 - val_loss: 1.0452 - val_accuracy: 0.5771\n",
            "Epoch 51/100\n",
            "17/17 [==============================] - 19s 1s/step - loss: 0.9142 - accuracy: 0.6196 - val_loss: 0.9301 - val_accuracy: 0.6090\n",
            "Epoch 52/100\n",
            "17/17 [==============================] - 19s 1s/step - loss: 0.8830 - accuracy: 0.5956 - val_loss: 0.9053 - val_accuracy: 0.6144\n",
            "Epoch 53/100\n",
            "17/17 [==============================] - 18s 1s/step - loss: 0.9250 - accuracy: 0.6018 - val_loss: 0.8568 - val_accuracy: 0.6170\n",
            "Epoch 54/100\n",
            "17/17 [==============================] - 19s 1s/step - loss: 0.9146 - accuracy: 0.6044 - val_loss: 0.9931 - val_accuracy: 0.5851\n",
            "Epoch 55/100\n",
            "17/17 [==============================] - 18s 1s/step - loss: 0.8990 - accuracy: 0.6098 - val_loss: 0.9550 - val_accuracy: 0.5851\n",
            "Epoch 56/100\n",
            "17/17 [==============================] - 18s 1s/step - loss: 0.9347 - accuracy: 0.5787 - val_loss: 0.9335 - val_accuracy: 0.6064\n",
            "Epoch 57/100\n",
            "17/17 [==============================] - 20s 1s/step - loss: 0.9100 - accuracy: 0.5947 - val_loss: 0.8198 - val_accuracy: 0.6383\n",
            "Epoch 58/100\n",
            "17/17 [==============================] - 19s 1s/step - loss: 0.8542 - accuracy: 0.6338 - val_loss: 0.8235 - val_accuracy: 0.6436\n",
            "Epoch 59/100\n",
            "17/17 [==============================] - 23s 1s/step - loss: 0.8970 - accuracy: 0.6036 - val_loss: 0.9148 - val_accuracy: 0.6037\n",
            "Epoch 60/100\n",
            "17/17 [==============================] - 19s 1s/step - loss: 0.8883 - accuracy: 0.6107 - val_loss: 0.8281 - val_accuracy: 0.6330\n",
            "Epoch 61/100\n",
            "17/17 [==============================] - 20s 1s/step - loss: 0.9074 - accuracy: 0.6098 - val_loss: 0.8962 - val_accuracy: 0.6330\n",
            "Epoch 62/100\n",
            "17/17 [==============================] - 20s 1s/step - loss: 0.8993 - accuracy: 0.6213 - val_loss: 0.8469 - val_accuracy: 0.6463\n",
            "Epoch 63/100\n",
            "17/17 [==============================] - 19s 1s/step - loss: 0.9002 - accuracy: 0.6284 - val_loss: 0.9099 - val_accuracy: 0.6117\n",
            "Epoch 64/100\n",
            "17/17 [==============================] - 18s 1s/step - loss: 0.8912 - accuracy: 0.6187 - val_loss: 0.9097 - val_accuracy: 0.6303\n",
            "Epoch 65/100\n",
            "17/17 [==============================] - 20s 1s/step - loss: 0.8891 - accuracy: 0.6062 - val_loss: 0.9842 - val_accuracy: 0.5878\n",
            "Epoch 66/100\n",
            "17/17 [==============================] - 18s 1s/step - loss: 0.8810 - accuracy: 0.6240 - val_loss: 0.8898 - val_accuracy: 0.6197\n",
            "Epoch 67/100\n",
            "17/17 [==============================] - 20s 1s/step - loss: 0.8499 - accuracy: 0.6302 - val_loss: 0.8080 - val_accuracy: 0.6489\n",
            "Epoch 68/100\n",
            "17/17 [==============================] - 19s 1s/step - loss: 0.8820 - accuracy: 0.6080 - val_loss: 0.8157 - val_accuracy: 0.6463\n",
            "Epoch 69/100\n",
            "17/17 [==============================] - 19s 1s/step - loss: 0.8692 - accuracy: 0.6133 - val_loss: 0.8841 - val_accuracy: 0.6356\n",
            "Epoch 70/100\n",
            "17/17 [==============================] - 20s 1s/step - loss: 0.8739 - accuracy: 0.6080 - val_loss: 0.9761 - val_accuracy: 0.6117\n",
            "Epoch 71/100\n",
            "17/17 [==============================] - 18s 1s/step - loss: 0.8607 - accuracy: 0.6284 - val_loss: 0.9115 - val_accuracy: 0.6303\n",
            "Epoch 72/100\n",
            "17/17 [==============================] - 19s 1s/step - loss: 0.8497 - accuracy: 0.6293 - val_loss: 1.0886 - val_accuracy: 0.5691\n",
            "Epoch 73/100\n",
            "17/17 [==============================] - 20s 1s/step - loss: 0.8755 - accuracy: 0.6222 - val_loss: 0.9052 - val_accuracy: 0.6090\n",
            "Epoch 74/100\n",
            "17/17 [==============================] - 19s 1s/step - loss: 0.8692 - accuracy: 0.6116 - val_loss: 0.8366 - val_accuracy: 0.6463\n",
            "Epoch 75/100\n",
            "17/17 [==============================] - 19s 1s/step - loss: 0.8309 - accuracy: 0.6293 - val_loss: 1.0243 - val_accuracy: 0.5851\n",
            "Epoch 76/100\n",
            "17/17 [==============================] - 19s 1s/step - loss: 0.8502 - accuracy: 0.6196 - val_loss: 1.0297 - val_accuracy: 0.5878\n",
            "Epoch 77/100\n",
            "17/17 [==============================] - 20s 1s/step - loss: 0.8333 - accuracy: 0.6409 - val_loss: 1.0425 - val_accuracy: 0.5745\n",
            "Epoch 78/100\n",
            "17/17 [==============================] - 19s 1s/step - loss: 0.8550 - accuracy: 0.6169 - val_loss: 0.9358 - val_accuracy: 0.5878\n",
            "Epoch 79/100\n",
            "17/17 [==============================] - 19s 1s/step - loss: 0.8270 - accuracy: 0.6436 - val_loss: 1.0813 - val_accuracy: 0.5665\n",
            "Epoch 80/100\n",
            "17/17 [==============================] - 19s 1s/step - loss: 0.8606 - accuracy: 0.6382 - val_loss: 0.8854 - val_accuracy: 0.6330\n",
            "Epoch 81/100\n",
            "17/17 [==============================] - 19s 1s/step - loss: 0.8559 - accuracy: 0.6284 - val_loss: 0.7977 - val_accuracy: 0.6330\n",
            "Epoch 82/100\n",
            "17/17 [==============================] - 18s 1s/step - loss: 0.8436 - accuracy: 0.6276 - val_loss: 0.8452 - val_accuracy: 0.6330\n",
            "Epoch 83/100\n",
            "17/17 [==============================] - 19s 1s/step - loss: 0.8381 - accuracy: 0.6409 - val_loss: 0.8464 - val_accuracy: 0.6303\n",
            "Epoch 84/100\n",
            "17/17 [==============================] - 19s 1s/step - loss: 0.8565 - accuracy: 0.6178 - val_loss: 0.8848 - val_accuracy: 0.6303\n",
            "Epoch 85/100\n",
            "17/17 [==============================] - 20s 1s/step - loss: 0.8040 - accuracy: 0.6311 - val_loss: 0.8867 - val_accuracy: 0.6197\n",
            "Epoch 86/100\n",
            "17/17 [==============================] - 19s 1s/step - loss: 0.8541 - accuracy: 0.6293 - val_loss: 0.8504 - val_accuracy: 0.6250\n",
            "Epoch 87/100\n",
            "17/17 [==============================] - 18s 1s/step - loss: 0.8344 - accuracy: 0.6409 - val_loss: 0.8644 - val_accuracy: 0.6330\n",
            "Epoch 88/100\n",
            "17/17 [==============================] - 19s 1s/step - loss: 0.8398 - accuracy: 0.6507 - val_loss: 0.8458 - val_accuracy: 0.6330\n",
            "Epoch 89/100\n",
            "17/17 [==============================] - 25s 1s/step - loss: 0.8413 - accuracy: 0.6302 - val_loss: 0.8886 - val_accuracy: 0.6383\n",
            "Epoch 90/100\n",
            "17/17 [==============================] - 19s 1s/step - loss: 0.8363 - accuracy: 0.6364 - val_loss: 0.9102 - val_accuracy: 0.6383\n",
            "Epoch 91/100\n",
            "17/17 [==============================] - 19s 1s/step - loss: 0.8420 - accuracy: 0.6400 - val_loss: 0.8854 - val_accuracy: 0.6197\n",
            "Epoch 92/100\n",
            "17/17 [==============================] - 19s 1s/step - loss: 0.8384 - accuracy: 0.6249 - val_loss: 0.9286 - val_accuracy: 0.6197\n",
            "Epoch 93/100\n",
            "17/17 [==============================] - 20s 1s/step - loss: 0.8308 - accuracy: 0.6276 - val_loss: 0.8131 - val_accuracy: 0.6543\n",
            "Epoch 94/100\n",
            "17/17 [==============================] - 19s 1s/step - loss: 0.8569 - accuracy: 0.6160 - val_loss: 0.8003 - val_accuracy: 0.6489\n",
            "Epoch 95/100\n",
            "17/17 [==============================] - 18s 1s/step - loss: 0.8361 - accuracy: 0.6444 - val_loss: 0.9048 - val_accuracy: 0.6197\n",
            "Epoch 96/100\n",
            "17/17 [==============================] - 19s 1s/step - loss: 0.8342 - accuracy: 0.6409 - val_loss: 0.9009 - val_accuracy: 0.6064\n",
            "Epoch 97/100\n",
            "17/17 [==============================] - 20s 1s/step - loss: 0.8124 - accuracy: 0.6569 - val_loss: 0.8291 - val_accuracy: 0.6303\n",
            "Epoch 98/100\n",
            "17/17 [==============================] - 18s 1s/step - loss: 0.8143 - accuracy: 0.6267 - val_loss: 0.9115 - val_accuracy: 0.6090\n",
            "Epoch 99/100\n",
            "17/17 [==============================] - 19s 1s/step - loss: 0.8030 - accuracy: 0.6391 - val_loss: 0.9005 - val_accuracy: 0.6011\n",
            "Epoch 100/100\n",
            "17/17 [==============================] - 19s 1s/step - loss: 0.8185 - accuracy: 0.6382 - val_loss: 0.8993 - val_accuracy: 0.6330\n"
          ]
        }
      ]
    },
    {
      "cell_type": "markdown",
      "source": [
        "graph"
      ],
      "metadata": {
        "id": "GXzgw8thq-l1"
      }
    },
    {
      "metadata": {
        "trusted": true,
        "id": "JaBGeUrsnr47",
        "outputId": "216be9b8-68a2-4c85-dc49-ca35599d5724",
        "colab": {
          "base_uri": "https://localhost:8080/",
          "height": 943
        }
      },
      "cell_type": "code",
      "source": [
        "accuracy = history.history['accuracy']\n",
        "val_accuracy = history.history['val_accuracy']\n",
        "loss = history.history['loss']\n",
        "val_loss = history.history['val_loss']\n",
        "epochs = range(len(accuracy))\n",
        "plt.plot(epochs, accuracy, 'r', label='Training acc')\n",
        "plt.plot(epochs, val_accuracy, 'b', label='Validation acc')\n",
        "plt.title('Training and validation accuracy')\n",
        "plt.ylabel('accuracy')\n",
        "plt.xlabel('epoch')\n",
        "plt.legend()\n",
        "plt.figure()\n",
        "plt.plot(epochs, loss, 'r', label='Training loss')\n",
        "plt.plot(epochs, val_loss, 'b', label='Validation loss')\n",
        "plt.title('Training and validation loss')\n",
        "plt.ylabel('loss')\n",
        "plt.xlabel('epoch')\n",
        "plt.legend()\n",
        "plt.show()"
      ],
      "execution_count": 24,
      "outputs": [
        {
          "output_type": "display_data",
          "data": {
            "text/plain": [
              "<Figure size 640x480 with 1 Axes>"
            ],
            "image/png": "[encoded data removed]"
          },
          "metadata": {}
        },
        {
          "output_type": "display_data",
          "data": {
            "text/plain": [
              "<Figure size 640x480 with 1 Axes>"
            ],
            "image/png": "[encoded data removed]"
          },
          "metadata": {}
        }
      ]
    },
    {
      "metadata": {
        "trusted": true,
        "id": "iANNbMTznr47",
        "colab": {
          "base_uri": "https://localhost:8080/"
        },
        "outputId": "172d4331-b5e5-4dea-ca85-745511b8ac51"
      },
      "cell_type": "code",
      "source": [
        "model.save(\"simple_animal_classification_model.h5\")#save model"
      ],
      "execution_count": 25,
      "outputs": [
        {
          "output_type": "stream",
          "name": "stderr",
          "text": [
            "/usr/local/lib/python3.10/dist-packages/keras/src/engine/training.py:3103: UserWarning: You are saving your model as an HDF5 file via `model.save()`. This file format is considered legacy. We recommend using instead the native Keras format, e.g. `model.save('my_model.keras')`.\n",
            "  saving_api.save_model(\n"
          ]
        }
      ]
    },
    {
      "metadata": {
        "trusted": true,
        "id": "d1RVUb8Mnr48"
      },
      "cell_type": "code",
      "source": [
        "from keras.models import load_model\n",
        "model=load_model(\"simple_animal_classification_model.h5\")"
      ],
      "execution_count": 26,
      "outputs": []
    },
    {
      "metadata": {
        "trusted": true,
        "id": "Xjp5NdO9nr48",
        "outputId": "8bb0db8d-1148-4634-deca-3ede246e8a9b",
        "colab": {
          "base_uri": "https://localhost:8080/",
          "height": 49
        }
      },
      "cell_type": "code",
      "source": [
        "from keras.preprocessing import image\n",
        "test_image = image.load_img(\"/content/gettyimages-124027475-612x612.jpg\",target_size=(32,32),color_mode='grayscale')\n",
        "test_image\n"
      ],
      "execution_count": 27,
      "outputs": [
        {
          "output_type": "execute_result",
          "data": {
            "text/plain": [
              "<PIL.Image.Image image mode=L size=32x32>"
            ],
            "image/png": "[encoded data removed]"
          },
          "metadata": {},
          "execution_count": 27
        }
      ]
    },
    {
      "metadata": {
        "trusted": true,
        "id": "pk1I3tO6nr48"
      },
      "cell_type": "code",
      "source": [
        "test_image = image.img_to_array(test_image)\n",
        "test_image = np.expand_dims(test_image,axis=0)"
      ],
      "execution_count": 28,
      "outputs": []
    },
    {
      "metadata": {
        "trusted": true,
        "id": "lbYM3USunr48",
        "outputId": "0cf8ecad-eb4d-44f2-d94e-e8fabd959a66",
        "colab": {
          "base_uri": "https://localhost:8080/"
        }
      },
      "cell_type": "code",
      "source": [
        "result = model.predict(test_image)\n",
        "\n",
        "my_dict=training_set.class_indices\n",
        "def get_key(val):\n",
        "    for key, value in my_dict.items():\n",
        "         if val == value:\n",
        "             return key\n",
        "\n",
        "    return \"key doesn't exist\"\n",
        "\n",
        "pred=list(result[0])\n",
        "for i in range(len(pred)):\n",
        "    if pred[i]!=0:\n",
        "        print(get_key(i))"
      ],
      "execution_count": 29,
      "outputs": [
        {
          "output_type": "stream",
          "name": "stdout",
          "text": [
            "1/1 [==============================] - 0s 127ms/step\n",
            "zebra\n"
          ]
        }
      ]
    }
  ],
  "metadata": {
    "kernelspec": {
      "language": "python",
      "display_name": "Python 3",
      "name": "python3"
    },
    "language_info": {
      "pygments_lexer": "ipython3",
      "nbconvert_exporter": "python",
      "version": "3.6.4",
      "file_extension": ".py",
      "codemirror_mode": {
        "name": "ipython",
        "version": 3
      },
      "name": "python",
      "mimetype": "text/x-python"
    },
    "colab": {
      "provenance": []
    }
  },
  "nbformat": 4,
  "nbformat_minor": 0
}